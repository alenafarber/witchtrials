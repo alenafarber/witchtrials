{
 "cells": [
  {
   "cell_type": "markdown",
   "metadata": {},
   "source": [
    "This will add LatLong info to a dataset."
   ]
  },
  {
   "cell_type": "code",
   "execution_count": 4,
   "metadata": {
    "collapsed": false
   },
   "outputs": [
    {
     "name": "stdout",
     "output_type": "stream",
     "text": [
      "Done!\n"
     ]
    }
   ],
   "source": [
    "import csv\n",
    "from time import sleep\n",
    "from geopy.geocoders import Nominatim\n",
    "import itertools\n",
    "geolocator = Nominatim()\n",
    "\n",
    "file = \"full-trials-data.csv\"\n",
    "newfile = \"trials.csv\"\n",
    "newdata = []\n",
    "places = {}\n",
    "\n",
    "def to_snake_case(string):\n",
    "    string = string.replace('-', '_').replace(' ', '_').lower()\n",
    "    return string\n",
    "\n",
    "def to_camel_case(snake_str):\n",
    "    components = snake_str.split('_')\n",
    "    # We capitalize the first letter of each component except the first one\n",
    "    # with the 'title' method and join them together.\n",
    "    return components[0] + \"\".join(x.title() for x in components[1:])\n",
    "\n",
    "def camel_list(string_list):\n",
    "    string_list = string_list.split(',')\n",
    "    new_list = []\n",
    "    for string in string_list:\n",
    "        new_list.append(to_camel_case(to_snake_case(string)))\n",
    "    new_list = ','.join(new_list)\n",
    "    return new_list\n",
    "\n",
    "def fix_header(iterator):\n",
    "    return itertools.chain([camel_list(next(iterator))], iterator)\n",
    "\n",
    "with open(file) as csvfile:\n",
    "    reader = csv.DictReader(fix_header(csvfile))\n",
    "    for row in reader:\n",
    "        interval = int(row[\"endYear\"]) - int(row[\"startYear\"])\n",
    "        if interval <= 10:\n",
    "            place = row[\"city\"] + \", \" + row[\"country\"]\n",
    "            if place not in places:\n",
    "                places[place] = {}\n",
    "            newdata.append(row)\n",
    "    csvfile.close()\n",
    "       \n",
    "for place in places:\n",
    "    location = geolocator.geocode(place)\n",
    "    sleep(1)\n",
    "    places[place][\"latitude\"] = location.latitude\n",
    "    places[place][\"longitude\"] = location.longitude\n",
    "\n",
    "for row in newdata:\n",
    "    place = row[\"city\"] + \", \" + row[\"country\"]\n",
    "    row[\"latitude\"] = places[place][\"latitude\"]\n",
    "    row[\"longitude\"] = places[place][\"longitude\"]\n",
    "\n",
    "with open(newfile, 'w') as outfile:\n",
    "    fp = csv.DictWriter(outfile, newdata[0].keys(), lineterminator='\\n')\n",
    "    fp.writeheader()\n",
    "    fp.writerows(newdata)\n",
    "    outfile.close()\n",
    "    \n",
    "print(\"Done!\")"
   ]
  },
  {
   "cell_type": "markdown",
   "metadata": {},
   "source": [
    "Keep only the European countries from a geojson shapefile."
   ]
  },
  {
   "cell_type": "code",
   "execution_count": 8,
   "metadata": {
    "collapsed": false
   },
   "outputs": [
    {
     "name": "stdout",
     "output_type": "stream",
     "text": [
      "Done!\n"
     ]
    }
   ],
   "source": [
    "import json\n",
    "\n",
    "file = \"Final Project/data/countries.json\"\n",
    "newfile = \"Final Project/data/europe.json\"\n",
    "data = []\n",
    "\n",
    "with open(file) as data_file:    \n",
    "    data = json.load(data_file)\n",
    "    \n",
    "data[\"features\"] = [feature for feature in data[\"features\"] if feature[\"properties\"][\"CONTINENT\"] == \"Europe\"]      \n",
    "        \n",
    "with open(newfile, 'w') as outfile:\n",
    "    json.dump(data, outfile)\n",
    "    \n",
    "print(\"Done!\")\n"
   ]
  },
  {
   "cell_type": "code",
   "execution_count": 2,
   "metadata": {
    "collapsed": false
   },
   "outputs": [
    {
     "name": "stdout",
     "output_type": "stream",
     "text": [
      "Helsinki, Finland 60.1674086 24.9425683\n",
      "Finland 63.2467777 25.9209164\n",
      "Done!\n"
     ]
    }
   ],
   "source": [
    "from time import sleep\n",
    "from geopy.geocoders import Nominatim\n",
    "geolocator = Nominatim()\n",
    "\n",
    "places = [\"Helsinki, Finland\", \"Finland\"]\n",
    "       \n",
    "for place in places:\n",
    "    location = geolocator.geocode(place)\n",
    "    print(place, location.latitude, location.longitude)\n",
    "    sleep(1)\n",
    "    \n",
    "print(\"Done!\")"
   ]
  },
  {
   "cell_type": "code",
   "execution_count": null,
   "metadata": {
    "collapsed": true
   },
   "outputs": [],
   "source": []
  }
 ],
 "metadata": {
  "kernelspec": {
   "display_name": "Python 3",
   "language": "python",
   "name": "python3"
  },
  "language_info": {
   "codemirror_mode": {
    "name": "ipython",
    "version": 3
   },
   "file_extension": ".py",
   "mimetype": "text/x-python",
   "name": "python",
   "nbconvert_exporter": "python",
   "pygments_lexer": "ipython3",
   "version": "3.6.0"
  }
 },
 "nbformat": 4,
 "nbformat_minor": 2
}
